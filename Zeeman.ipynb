{
 "cells": [
  {
   "cell_type": "markdown",
   "id": "84e17a9f",
   "metadata": {},
   "source": [
    "## Objetivo:\n",
    "\n",
    "1. encontrar el valor del magnetón de Bohr a partir de la distancia $\\alpha$ de las líneas y el valor del campo magnético"
   ]
  },
  {
   "cell_type": "code",
   "execution_count": 2,
   "id": "263f3b2f",
   "metadata": {},
   "outputs": [],
   "source": [
    "#librerías a usar\n",
    "\n",
    "import numpy as np\n",
    "import matplotlib.pyplot as plt\n",
    "import pandas as pd\n",
    "import statistics as st\n",
    "from scipy.optimize import curve_fit\n",
    "from math import pi #to use on labeling\n",
    "from fractions import Fraction #show the decimals as fractions\n",
    "from scipy.constants import h , c\n",
    "from scipy.constants import physical_constants\n",
    "\n",
    "m_b = physical_constants['Bohr magneton'][0]"
   ]
  },
  {
   "cell_type": "markdown",
   "id": "a9e13667",
   "metadata": {},
   "source": [
    "Lista de datos"
   ]
  },
  {
   "cell_type": "code",
   "execution_count": 3,
   "id": "891f3518",
   "metadata": {},
   "outputs": [],
   "source": [
    "B=np.array([1353,1253,1170,1096,980,853,701,560])\n",
    "B=B*1e-3\n",
    "d2=np.full(8,83)\n",
    "d1=np.array([12.5,11.5,11,9.5,8,7.5,6.5,5.5])\n",
    "#----\n",
    "d=2.7e-3\n",
    "h1=6.6260e-34\n",
    "c1=3e8"
   ]
  },
  {
   "cell_type": "code",
   "execution_count": 4,
   "id": "702800de",
   "metadata": {},
   "outputs": [
    {
     "name": "stdout",
     "output_type": "stream",
     "text": [
      "[0.151 0.139 0.133 0.114 0.096 0.09  0.078 0.066]\n"
     ]
    }
   ],
   "source": [
    "mb_teo=np.full(8,m_b)\n",
    "alfa_1 = d1/d2\n",
    "print(np.round(alfa_1,3))"
   ]
  },
  {
   "cell_type": "code",
   "execution_count": 4,
   "id": "9b13da61",
   "metadata": {},
   "outputs": [
    {
     "name": "stdout",
     "output_type": "stream",
     "text": [
      "[8.19488845e-24 8.14099708e-24 8.33945468e-24 7.68854005e-24\n",
      " 7.24093654e-24 7.79907437e-24 8.22481557e-24 8.71175177e-24]\n"
     ]
    }
   ],
   "source": [
    "mag_bohr= (alfa_1*h1*c1)/(B*d)\n",
    "print(mag_bohr)"
   ]
  },
  {
   "cell_type": "code",
   "execution_count": 5,
   "id": "a0848753",
   "metadata": {},
   "outputs": [
    {
     "name": "stdout",
     "output_type": "stream",
     "text": [
      "[8.18930587e-24 8.13545122e-24 8.33377362e-24 7.68330241e-24\n",
      " 7.23600381e-24 7.79376144e-24 8.21921261e-24 8.70581709e-24]\n"
     ]
    }
   ],
   "source": [
    "mb=(alfa_1*h*c)/(B*d)\n",
    "print(mb)"
   ]
  },
  {
   "cell_type": "code",
   "execution_count": 9,
   "id": "9451a5e6",
   "metadata": {},
   "outputs": [
    {
     "name": "stdout",
     "output_type": "stream",
     "text": [
      "[11.636 12.217 10.077 17.096 21.922 15.904 11.313  6.063] 13.279 % error \n",
      "[11.696 12.277 10.138 17.152 21.975 15.961 11.374  6.127] 13.338 % error con scipy\n"
     ]
    }
   ],
   "source": [
    "#array de errores\n",
    "\n",
    "Error=abs(mb_teo-mag_bohr)*100/mb_teo\n",
    "Error_const=abs(mb_teo-mb)*100/mb_teo\n",
    "print(np.round(Error,3), np.round(np.mean(Error),3), '% error ')\n",
    "print(np.round(Error_const,3), np.round(np.mean(Error_const),3), '% error con scipy')"
   ]
  }
 ],
 "metadata": {
  "kernelspec": {
   "display_name": "Python 3 (ipykernel)",
   "language": "python",
   "name": "python3"
  },
  "language_info": {
   "codemirror_mode": {
    "name": "ipython",
    "version": 3
   },
   "file_extension": ".py",
   "mimetype": "text/x-python",
   "name": "python",
   "nbconvert_exporter": "python",
   "pygments_lexer": "ipython3",
   "version": "3.10.11"
  }
 },
 "nbformat": 4,
 "nbformat_minor": 5
}
